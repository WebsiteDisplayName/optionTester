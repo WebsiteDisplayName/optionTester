{
 "cells": [
  {
   "cell_type": "code",
   "execution_count": 2,
   "metadata": {},
   "outputs": [
    {
     "name": "stdout",
     "output_type": "stream",
     "text": [
      "c\n",
      "h\n",
      "i\n",
      "k\n",
      "i\n",
      "n\n",
      "['c', 'h', 'i', 'k', 'i', 'n']\n"
     ]
    }
   ],
   "source": [
    "word = \"chikin\"\n",
    "for char in word:\n",
    "    print(char)\n",
    "print(list(word))"
   ]
  },
  {
   "cell_type": "code",
   "execution_count": 16,
   "metadata": {},
   "outputs": [
    {
     "name": "stdout",
     "output_type": "stream",
     "text": [
      "deque([1, 2, 3, 4, 5])\n",
      "1234\n"
     ]
    }
   ],
   "source": [
    "# https://youtu.be/Bu7gXGE8-dY\n",
    "fishtaco = 12345\n",
    "n = fishtaco\n",
    "from collections import deque\n",
    "numDeque = deque()\n",
    "while n:\n",
    "    dig = n % 10\n",
    "    n //= 10\n",
    "    numDeque.appendleft(dig)\n",
    "\n",
    "print(numDeque)\n",
    "    "
   ]
  }
 ],
 "metadata": {
  "kernelspec": {
   "display_name": "Python 3",
   "language": "python",
   "name": "python3"
  },
  "language_info": {
   "codemirror_mode": {
    "name": "ipython",
    "version": 3
   },
   "file_extension": ".py",
   "mimetype": "text/x-python",
   "name": "python",
   "nbconvert_exporter": "python",
   "pygments_lexer": "ipython3",
   "version": "3.10.1 (tags/v3.10.1:2cd268a, Dec  6 2021, 19:10:37) [MSC v.1929 64 bit (AMD64)]"
  },
  "orig_nbformat": 4,
  "vscode": {
   "interpreter": {
    "hash": "8c7f0a6833b2e90d418006e0e6deec1fc5fac15b23c1dee2df1a27ddd2f0576d"
   }
  }
 },
 "nbformat": 4,
 "nbformat_minor": 2
}
